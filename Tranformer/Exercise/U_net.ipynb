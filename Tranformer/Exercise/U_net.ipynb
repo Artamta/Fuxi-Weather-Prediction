{
 "cells": [
  {
   "cell_type": "markdown",
   "id": "7746976a",
   "metadata": {},
   "source": [
    "U-net from Scratch(U-net:Original Paper Implementation)"
   ]
  },
  {
   "cell_type": "code",
   "execution_count": null,
   "id": "01bbfba2",
   "metadata": {},
   "outputs": [],
   "source": []
  }
 ],
 "metadata": {
  "kernelspec": {
   "display_name": "weather_forecast",
   "language": "python",
   "name": "python3"
  },
  "language_info": {
   "name": "python",
   "version": "3.9.7"
  }
 },
 "nbformat": 4,
 "nbformat_minor": 5
}
