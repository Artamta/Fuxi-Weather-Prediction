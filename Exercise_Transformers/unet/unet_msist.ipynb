{
 "cells": [
  {
   "cell_type": "markdown",
   "id": "f38bcb4d",
   "metadata": {},
   "source": [
    "# UNet on MNIST from Scratch\n",
    "\n",
    "This notebook implements a classic UNet architecture in PyTorch and adapts it for MNIST digit classification.  \n",
    "UNet is typically used for segmentation, but here we use its encoder-decoder structure to extract features and classify digits."
   ]
  },
  {
   "cell_type": "code",
   "execution_count": 1,
   "id": "354875b7",
   "metadata": {},
   "outputs": [],
   "source": [
    "import torch\n",
    "import torch.nn as nn\n",
    "import torch.nn.functional as F\n",
    "from torch.utils.data import DataLoader\n",
    "from torchvision import datasets, transforms\n",
    "import matplotlib.pyplot as plt"
   ]
  },
  {
   "cell_type": "code",
   "execution_count": 2,
   "id": "a2817ab7",
   "metadata": {},
   "outputs": [
    {
     "name": "stderr",
     "output_type": "stream",
     "text": [
      "100%|██████████| 9.91M/9.91M [00:24<00:00, 397kB/s]\n",
      "100%|██████████| 28.9k/28.9k [00:00<00:00, 99.7kB/s]\n",
      "100%|██████████| 1.65M/1.65M [00:03<00:00, 538kB/s]\n",
      "100%|██████████| 4.54k/4.54k [00:00<00:00, 8.98MB/s]\n"
     ]
    }
   ],
   "source": [
    "# Load MNIST dataset\n",
    "transform = transforms.ToTensor()\n",
    "train_ds = datasets.MNIST(root=\"data\", train=True, download=True, transform=transform)\n",
    "test_ds = datasets.MNIST(root=\"data\", train=False, download=True, transform=transform)\n",
    "\n",
    "train_loader = DataLoader(train_ds, batch_size=64, shuffle=True)\n",
    "test_loader = DataLoader(test_ds, batch_size=256)"
   ]
  },
  {
   "cell_type": "code",
   "execution_count": 6,
   "id": "91c3226a",
   "metadata": {},
   "outputs": [],
   "source": [
    "def double_conv(in_c, out_c):\n",
    "    return nn.Sequential(\n",
    "        nn.Conv2d(in_c, out_c, kernel_size=3, padding=1),\n",
    "        nn.ReLU(inplace=True),\n",
    "        nn.Conv2d(out_c, out_c, kernel_size=3, padding=1),\n",
    "        nn.ReLU(inplace=True)\n",
    "    )\n",
    "\n",
    "def crop_img(tensor, target_tensor):\n",
    "    # Crop tensor to match target_tensor's spatial size\n",
    "    target_size = target_tensor.size()[2]\n",
    "    tensor_size = tensor.size()[2]\n",
    "    delta = tensor_size - target_size\n",
    "    if delta == 0:\n",
    "        return tensor\n",
    "    start = delta // 2\n",
    "    end = start + target_size\n",
    "    return tensor[:, :, start:end, start:end]\n",
    "\n",
    "class UNet(nn.Module):\n",
    "    def __init__(self, num_classes=10):\n",
    "        super().__init__()\n",
    "        self.max_pool_2x2 = nn.MaxPool2d(kernel_size=2, stride=2)\n",
    "        self.down_conv_1 = double_conv(1, 64)\n",
    "        self.down_conv_2 = double_conv(64, 128)\n",
    "        self.down_conv_3 = double_conv(128, 256)\n",
    "        self.down_conv_4 = double_conv(256, 512)\n",
    "        self.down_conv_5 = double_conv(512, 1024)\n",
    "\n",
    "        self.up_trans_1 = nn.ConvTranspose2d(1024, 512, kernel_size=2, stride=2)\n",
    "        self.up_conv_1 = double_conv(1024, 512)\n",
    "        self.up_trans_2 = nn.ConvTranspose2d(512, 256, kernel_size=2, stride=2)\n",
    "        self.up_conv_2 = double_conv(512, 256)\n",
    "        self.up_trans_3 = nn.ConvTranspose2d(256, 128, kernel_size=2, stride=2)\n",
    "        self.up_conv_3 = double_conv(256, 128)\n",
    "        self.up_trans_4 = nn.ConvTranspose2d(128, 64, kernel_size=2, stride=2)\n",
    "        self.up_conv_4 = double_conv(128, 64)\n",
    "\n",
    "        # Instead of segmentation output, use GAP + FC for classification\n",
    "        self.gap = nn.AdaptiveAvgPool2d(1)\n",
    "        self.fc = nn.Linear(64, num_classes)\n",
    "\n",
    "    def forward(self, image):\n",
    "        # Encoder\n",
    "        x1 = self.down_conv_1(image)\n",
    "        x2 = self.max_pool_2x2(x1)\n",
    "        x3 = self.down_conv_2(x2)\n",
    "        x4 = self.max_pool_2x2(x3)\n",
    "        x5 = self.down_conv_3(x4)\n",
    "        x6 = self.max_pool_2x2(x5)\n",
    "        x7 = self.down_conv_4(x6)\n",
    "        x8 = self.max_pool_2x2(x7)\n",
    "        x9 = self.down_conv_5(x8)\n",
    "\n",
    "        # Decoder\n",
    "        x = self.up_trans_1(x9)\n",
    "        y = crop_img(x7, x)\n",
    "        x = self.up_conv_1(torch.cat([x, y], 1))\n",
    "\n",
    "        \n",
    "\n",
    "        x = self.up_trans_2(x)\n",
    "        y = crop_img(x5, x)\n",
    "        x = self.up_conv_2(torch.cat([x, y], 1))\n",
    "\n",
    "        x = self.up_trans_3(x)\n",
    "        y = crop_img(x3, x)\n",
    "        x = self.up_conv_3(torch.cat([x, y], 1))\n",
    "\n",
    "        x = self.up_trans_4(x)\n",
    "        y = crop_img(x1, x)\n",
    "        x = self.up_conv_4(torch.cat([x, y], 1))\n",
    "\n",
    "        # Classification head\n",
    "        x = self.gap(x)  # (B, 64, 1, 1)\n",
    "        x = x.view(x.size(0), -1)  # (B, 64)\n",
    "        x = self.fc(x)  # (B, num_classes)\n",
    "        return x"
   ]
  },
  {
   "cell_type": "code",
   "execution_count": 7,
   "id": "5be733cf",
   "metadata": {},
   "outputs": [
    {
     "name": "stdout",
     "output_type": "stream",
     "text": [
      "Using device: mps\n"
     ]
    }
   ],
   "source": [
    "if torch.backends.mps.is_available():\n",
    "    device = \"mps\"\n",
    "elif torch.cuda.is_available():\n",
    "    device = \"cuda\"\n",
    "else:\n",
    "    device = \"cpu\"\n",
    "print(\"Using device:\", device)"
   ]
  },
  {
   "cell_type": "code",
   "execution_count": 8,
   "id": "7f3a6c29",
   "metadata": {},
   "outputs": [
    {
     "name": "stdout",
     "output_type": "stream",
     "text": [
      "Epoch 0: Val Acc = 96.97%\n",
      "Epoch 1: Val Acc = 98.66%\n",
      "Epoch 2: Val Acc = 98.52%\n"
     ]
    }
   ],
   "source": [
    "model = UNet(num_classes=10).to(device)\n",
    "optimizer = torch.optim.Adam(model.parameters(), lr=1e-3)\n",
    "loss_fn = nn.CrossEntropyLoss()\n",
    "\n",
    "train_losses = []\n",
    "val_accs = []\n",
    "\n",
    "for epoch in range(3):  # Train for a few epochs\n",
    "    model.train()\n",
    "    for img, label in train_loader:\n",
    "        img, label = img.to(device), label.to(device)\n",
    "        optimizer.zero_grad()\n",
    "        out = model(img)\n",
    "        loss = loss_fn(out, label)\n",
    "        loss.backward()\n",
    "        optimizer.step()\n",
    "        train_losses.append(loss.item())\n",
    "    # Validation\n",
    "    model.eval()\n",
    "    correct = total = 0\n",
    "    with torch.no_grad():\n",
    "        for img, label in test_loader:\n",
    "            img, label = img.to(device), label.to(device)\n",
    "            out = model(img)\n",
    "            pred = out.argmax(1)\n",
    "            correct += (pred == label).sum().item()\n",
    "            total += label.size(0)\n",
    "    val_acc = correct / total\n",
    "    val_accs.append(val_acc)\n",
    "    print(f\"Epoch {epoch}: Val Acc = {val_acc*100:.2f}%\")"
   ]
  },
  {
   "cell_type": "code",
   "execution_count": 9,
   "id": "c9b6def2",
   "metadata": {},
   "outputs": [
    {
     "data": {
      "image/png": "[encoded data removed]",
      "text/plain": [
       "<Figure size 640x480 with 1 Axes>"
      ]
     },
     "metadata": {},
     "output_type": "display_data"
    },
    {
     "name": "stdout",
     "output_type": "stream",
     "text": [
      "Final Validation Accuracy: 0.9852\n"
     ]
    }
   ],
   "source": [
    "plt.plot(train_losses)\n",
    "plt.title(\"Training Loss\")\n",
    "plt.xlabel(\"Batch\")\n",
    "plt.ylabel(\"Loss\")\n",
    "plt.show()\n",
    "\n",
    "print(\"Final Validation Accuracy:\", val_accs[-1])"
   ]
  },
  {
   "cell_type": "markdown",
   "id": "bc05fb94",
   "metadata": {},
   "source": [
    "## Summary\n",
    "\n",
    "- We implemented a classic UNet architecture from scratch and adapted it for MNIST digit classification.\n",
    "- Instead of segmentation, we use UNet’s encoder-decoder to extract features and classify digits via a global average pooling and a linear layer.\n",
    "- The model trains efficiently on Mac (MPS), CUDA, or CPU."
   ]
  }
 ],
 "metadata": {
  "kernelspec": {
   "display_name": "base",
   "language": "python",
   "name": "python3"
  },
  "language_info": {
   "codemirror_mode": {
    "name": "ipython",
    "version": 3
   },
   "file_extension": ".py",
   "mimetype": "text/x-python",
   "name": "python",
   "nbconvert_exporter": "python",
   "pygments_lexer": "ipython3",
   "version": "3.12.2"
  }
 },
 "nbformat": 4,
 "nbformat_minor": 5
}
