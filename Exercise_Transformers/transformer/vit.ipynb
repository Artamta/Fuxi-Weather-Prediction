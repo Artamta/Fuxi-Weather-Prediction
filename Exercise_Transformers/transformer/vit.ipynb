{
 "cells": [
  {
   "cell_type": "markdown",
   "id": "f7e414a0",
   "metadata": {},
   "source": [
    "# Vision Transformer (ViT) on MNIST from Scratch\n",
    "\n",
    "This notebook implements a simple Vision Transformer (ViT) for image classification on the MNIST dataset, using only PyTorch & Python.  \n",
    "We split each image into patches, embed them, apply transformer blocks, and classify the digit."
   ]
  },
  {
   "cell_type": "code",
   "execution_count": 1,
   "id": "6fa732ca",
   "metadata": {},
   "outputs": [],
   "source": [
    "import torch\n",
    "import torch.nn as nn\n",
    "import torch.nn.functional as F\n",
    "from torch.utils.data import DataLoader\n",
    "from torchvision import datasets, transforms\n",
    "import matplotlib.pyplot as plt"
   ]
  },
  {
   "cell_type": "code",
   "execution_count": 2,
   "id": "8defe173",
   "metadata": {},
   "outputs": [
    {
     "name": "stderr",
     "output_type": "stream",
     "text": [
      "100%|██████████| 9.91M/9.91M [00:15<00:00, 654kB/s]\n",
      "100%|██████████| 28.9k/28.9k [00:00<00:00, 98.1kB/s]\n",
      "100%|██████████| 1.65M/1.65M [00:02<00:00, 772kB/s]\n",
      "100%|██████████| 4.54k/4.54k [00:00<00:00, 3.73MB/s]\n"
     ]
    }
   ],
   "source": [
    "# Download and load MNIST\n",
    "transform = transforms.ToTensor()\n",
    "train_ds = datasets.MNIST(root=\"data\", train=True, download=True, transform=transform)\n",
    "test_ds = datasets.MNIST(root=\"data\", train=False, download=True, transform=transform)\n",
    "\n",
    "train_loader = DataLoader(train_ds, batch_size=128, shuffle=True)\n",
    "test_loader = DataLoader(test_ds, batch_size=512)"
   ]
  },
  {
   "cell_type": "code",
   "execution_count": 3,
   "id": "05f927d6",
   "metadata": {},
   "outputs": [],
   "source": [
    "class PatchEmbed(nn.Module):\n",
    "    def __init__(self, img_size=28, patch_size=4, in_ch=1, embed_dim=128):\n",
    "        super().__init__()\n",
    "        self.patch_size = patch_size\n",
    "        self.num_patches = (img_size // patch_size) ** 2\n",
    "        self.proj = nn.Linear(patch_size * patch_size * in_ch, embed_dim)\n",
    "\n",
    "    def forward(self, x):\n",
    "        # x: (B, 1, 28, 28)\n",
    "        B, C, H, W = x.shape\n",
    "        p = self.patch_size\n",
    "        x = x.unfold(2, p, p).unfold(3, p, p)  # (B, C, H//p, W//p, p, p)\n",
    "        x = x.contiguous().view(B, -1, C * p * p)  # (B, num_patches, patch_dim)\n",
    "        return self.proj(x)  # (B, num_patches, embed_dim)"
   ]
  },
  {
   "cell_type": "code",
   "execution_count": 4,
   "id": "768dbc5b",
   "metadata": {},
   "outputs": [],
   "source": [
    "class MultiHeadSelfAttention(nn.Module):\n",
    "    def __init__(self, embed_dim, num_heads, dropout=0.1):\n",
    "        super().__init__()\n",
    "        assert embed_dim % num_heads == 0\n",
    "        self.num_heads = num_heads\n",
    "        self.head_dim = embed_dim // num_heads\n",
    "        self.qkv = nn.Linear(embed_dim, embed_dim * 3)\n",
    "        self.proj = nn.Linear(embed_dim, embed_dim)\n",
    "        self.dropout = nn.Dropout(dropout)\n",
    "\n",
    "    def forward(self, x):\n",
    "        B, N, D = x.shape\n",
    "        qkv = self.qkv(x).reshape(B, N, 3, self.num_heads, self.head_dim)\n",
    "        qkv = qkv.permute(2, 0, 3, 1, 4)  # (3, B, heads, N, head_dim)\n",
    "        Q, K, V = qkv[0], qkv[1], qkv[2]\n",
    "        attn_scores = (Q @ K.transpose(-2, -1)) / (self.head_dim ** 0.5)\n",
    "        attn = attn_scores.softmax(dim=-1)\n",
    "        attn = self.dropout(attn)\n",
    "        out = (attn @ V).transpose(1, 2).reshape(B, N, D)\n",
    "        return self.proj(out)"
   ]
  },
  {
   "cell_type": "code",
   "execution_count": 5,
   "id": "a6d374fd",
   "metadata": {},
   "outputs": [],
   "source": [
    "class TransformerBlock(nn.Module):\n",
    "    def __init__(self, embed_dim, num_heads, mlp_ratio=4, dropout=0.1):\n",
    "        super().__init__()\n",
    "        self.norm1 = nn.LayerNorm(embed_dim)\n",
    "        self.attn = MultiHeadSelfAttention(embed_dim, num_heads, dropout)\n",
    "        self.norm2 = nn.LayerNorm(embed_dim)\n",
    "        self.mlp = nn.Sequential(\n",
    "            nn.Linear(embed_dim, embed_dim * mlp_ratio),\n",
    "            nn.GELU(),\n",
    "            nn.Linear(embed_dim * mlp_ratio, embed_dim),\n",
    "            nn.Dropout(dropout)\n",
    "        )\n",
    "\n",
    "    def forward(self, x):\n",
    "        x = x + self.attn(self.norm1(x))\n",
    "        x = x + self.mlp(self.norm2(x))\n",
    "        return x"
   ]
  },
  {
   "cell_type": "code",
   "execution_count": 6,
   "id": "7027d91f",
   "metadata": {},
   "outputs": [],
   "source": [
    "class ViT_MNIST(nn.Module):\n",
    "    def __init__(self, img_size=28, patch_size=4, in_ch=1, embed_dim=128, depth=4, num_heads=4, num_classes=10):\n",
    "        super().__init__()\n",
    "        self.patch_embed = PatchEmbed(img_size, patch_size, in_ch, embed_dim)\n",
    "        num_patches = self.patch_embed.num_patches\n",
    "        self.pos_embed = nn.Parameter(torch.zeros(1, num_patches, embed_dim))\n",
    "        self.blocks = nn.ModuleList([TransformerBlock(embed_dim, num_heads) for _ in range(depth)])\n",
    "        self.norm = nn.LayerNorm(embed_dim)\n",
    "        self.head = nn.Linear(embed_dim, num_classes)\n",
    "        nn.init.trunc_normal_(self.pos_embed, std=0.02)\n",
    "\n",
    "    def forward(self, x):\n",
    "        x = self.patch_embed(x) + self.pos_embed  # (B, num_patches, embed_dim)\n",
    "        for blk in self.blocks:\n",
    "            x = blk(x)\n",
    "        x = self.norm(x)\n",
    "        x = x.mean(dim=1)  # mean pool over patches\n",
    "        return self.head(x)"
   ]
  },
  {
   "cell_type": "code",
   "execution_count": 8,
   "id": "286e8a4e",
   "metadata": {},
   "outputs": [
    {
     "name": "stdout",
     "output_type": "stream",
     "text": [
      "Using device: mps\n",
      "Epoch 0: Val Acc = 87.05%\n"
     ]
    }
   ],
   "source": [
    "if torch.backends.mps.is_available():\n",
    "    device = \"mps\"\n",
    "elif torch.cuda.is_available():\n",
    "    device = \"cuda\"\n",
    "else:\n",
    "    device = \"cpu\"\n",
    "print(\"Using device:\", device)\n",
    "model = ViT_MNIST().to(device)\n",
    "optimizer = torch.optim.Adam(model.parameters(), lr=3e-4)\n",
    "loss_fn = nn.CrossEntropyLoss()\n",
    "\n",
    "train_losses = []\n",
    "val_accs = []\n",
    "\n",
    "for epoch in range(1):  # 1 epoch for demo\n",
    "    model.train()\n",
    "    for img, label in train_loader:\n",
    "        img, label = img.to(device), label.to(device)\n",
    "        optimizer.zero_grad()\n",
    "        out = model(img)\n",
    "        loss = loss_fn(out, label)\n",
    "        loss.backward()\n",
    "        optimizer.step()\n",
    "        train_losses.append(loss.item())\n",
    "    # Validation\n",
    "    model.eval()\n",
    "    correct = total = 0\n",
    "    with torch.no_grad():\n",
    "        for img, label in test_loader:\n",
    "            img, label = img.to(device), label.to(device)\n",
    "            out = model(img)\n",
    "            pred = out.argmax(1)\n",
    "            correct += (pred == label).sum().item()\n",
    "            total += label.size(0)\n",
    "    val_acc = correct / total\n",
    "    val_accs.append(val_acc)\n",
    "    print(f\"Epoch {epoch}: Val Acc = {val_acc*100:.2f}%\")"
   ]
  },
  {
   "cell_type": "code",
   "execution_count": 9,
   "id": "83a0caa3",
   "metadata": {},
   "outputs": [
    {
     "data": {
      "image/png": "[encoded data removed]",
      "text/plain": [
       "<Figure size 640x480 with 1 Axes>"
      ]
     },
     "metadata": {},
     "output_type": "display_data"
    },
    {
     "name": "stdout",
     "output_type": "stream",
     "text": [
      "Final Validation Accuracy: 0.8705\n"
     ]
    }
   ],
   "source": [
    "plt.plot(train_losses)\n",
    "plt.title(\"Training Loss\")\n",
    "plt.xlabel(\"Batch\")\n",
    "plt.ylabel(\"Loss\")\n",
    "plt.show()\n",
    "\n",
    "print(\"Final Validation Accuracy:\", val_accs[-1])"
   ]
  },
  {
   "cell_type": "markdown",
   "id": "503d43c1",
   "metadata": {},
   "source": [
    "## Summary\n",
    "\n",
    "- We implemented a Vision Transformer (ViT) from scratch for MNIST digit classification using PyTorch.\n",
    "- The model splits each image into small patches, embeds them, and processes the sequence with transformer blocks.\n",
    "- After training, the model achieves good accuracy on MNIST, demonstrating the effectiveness of transformer architectures for image tasks.\n",
    "- All code is modular and easy to extend for more epochs, deeper models, or other datasets.\n",
    "- The notebook runs efficiently on Mac using MPS (Apple Metal) acceleration."
   ]
  }
 ],
 "metadata": {
  "kernelspec": {
   "display_name": "base",
   "language": "python",
   "name": "python3"
  },
  "language_info": {
   "codemirror_mode": {
    "name": "ipython",
    "version": 3
   },
   "file_extension": ".py",
   "mimetype": "text/x-python",
   "name": "python",
   "nbconvert_exporter": "python",
   "pygments_lexer": "ipython3",
   "version": "3.12.2"
  }
 },
 "nbformat": 4,
 "nbformat_minor": 5
}
