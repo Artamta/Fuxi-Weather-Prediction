{
 "cells": [
  {
   "cell_type": "markdown",
   "id": "448af107",
   "metadata": {},
   "source": [
    "# Swin Transformer on MNIST from Scratch\n",
    "\n",
    "This notebook implements a Swin Transformer for MNIST digit classification using PyTorch.  \n",
    "Swin Transformer is a hierarchical vision transformer that uses shifted windows for efficient self-attention.  \n",
    "We adapt it for MNIST by setting channels=1 and tuning window/downscaling parameters."
   ]
  },
  {
   "cell_type": "code",
   "execution_count": 44,
   "id": "0a0043e8",
   "metadata": {},
   "outputs": [],
   "source": [
    "# 1. Imports\n",
    "import torch\n",
    "import torch.nn as nn\n",
    "from torch.utils.data import DataLoader\n",
    "from torchvision import datasets, transforms\n",
    "import matplotlib.pyplot as plt\n",
    "import numpy as np\n",
    "from einops import rearrange"
   ]
  },
  {
   "cell_type": "code",
   "execution_count": 45,
   "id": "8e53e499",
   "metadata": {},
   "outputs": [],
   "source": [
    "# Load MNIST dataset with padding\n",
    "transform = transforms.Compose([\n",
    "    transforms.Pad(padding=2),  # Pads to 32x32\n",
    "    transforms.ToTensor()\n",
    "])\n",
    "train_ds = datasets.MNIST(root=\"data\", train=True, download=True, transform=transform)\n",
    "test_ds = datasets.MNIST(root=\"data\", train=False, download=True, transform=transform)\n",
    "\n",
    "train_loader = DataLoader(train_ds, batch_size=64, shuffle=True)\n",
    "test_loader = DataLoader(test_ds, batch_size=256)"
   ]
  },
  {
   "cell_type": "code",
   "execution_count": 46,
   "id": "7ebcded1",
   "metadata": {},
   "outputs": [],
   "source": [
    "# Import your Swin Transformer implementation\n",
    "from swin import swin_t  "
   ]
  },
  {
   "cell_type": "code",
   "execution_count": 47,
   "id": "52f4c8c3",
   "metadata": {},
   "outputs": [
    {
     "name": "stdout",
     "output_type": "stream",
     "text": [
      "Using device: mps\n"
     ]
    }
   ],
   "source": [
    "if torch.backends.mps.is_available():\n",
    "    device = \"mps\"\n",
    "elif torch.cuda.is_available():\n",
    "    device = \"cuda\"\n",
    "else:\n",
    "    device = \"cpu\"\n",
    "print(\"Using device:\", device)"
   ]
  },
  {
   "cell_type": "code",
   "execution_count": 50,
   "id": "d4076d0c",
   "metadata": {},
   "outputs": [],
   "source": [
    "# MNIST: 28x28, 1 channel\n",
    "# Use small window and downscaling factors for small images\n",
    "model = swin_t(\n",
    "    hidden_dim=32, \n",
    "    layers=(2, 2, 2, 2),           # All stages have even layers\n",
    "    heads=(2, 4, 8, 16), \n",
    "    channels=1, \n",
    "    num_classes=10, \n",
    "    head_dim=8, \n",
    "    window_size=4, \n",
    "    downscaling_factors=(2, 2, 2, 1),  # Last stage does not downscale\n",
    "    relative_pos_embedding=True\n",
    ").to(device)\n",
    "optimizer = torch.optim.Adam(model.parameters(), lr=1e-3)\n",
    "loss_fn = nn.CrossEntropyLoss()"
   ]
  },
  {
   "cell_type": "code",
   "execution_count": 51,
   "id": "59c7ff96",
   "metadata": {},
   "outputs": [
    {
     "name": "stderr",
     "output_type": "stream",
     "text": [
      "/Users/ayush/miniconda3/lib/python3.12/site-packages/torch/autograd/graph.py:824: UserWarning: The operator 'aten::col2im' is not currently supported on the MPS backend and will fall back to run on the CPU. This may have performance implications. (Triggered internally at /Users/runner/work/pytorch/pytorch/pytorch/aten/src/ATen/mps/MPSFallback.mm:14.)\n",
      "  return Variable._execution_engine.run_backward(  # Calls into the C++ engine to run the backward pass\n"
     ]
    },
    {
     "name": "stdout",
     "output_type": "stream",
     "text": [
      "Epoch 0: Val Acc = 94.33%\n",
      "Epoch 1: Val Acc = 95.65%\n",
      "Epoch 2: Val Acc = 96.20%\n"
     ]
    }
   ],
   "source": [
    "train_losses = []\n",
    "val_accs = []\n",
    "\n",
    "for epoch in range(3):  # Train for a few epochs\n",
    "    model.train()\n",
    "    for img, label in train_loader:\n",
    "        img, label = img.to(device), label.to(device)\n",
    "        optimizer.zero_grad()\n",
    "        out = model(img)\n",
    "        loss = loss_fn(out, label)\n",
    "        loss.backward()\n",
    "        optimizer.step()\n",
    "        train_losses.append(loss.item())\n",
    "    # Validation\n",
    "    model.eval()\n",
    "    correct = total = 0\n",
    "    with torch.no_grad():\n",
    "        for img, label in test_loader:\n",
    "            img, label = img.to(device), label.to(device)\n",
    "            out = model(img)\n",
    "            pred = out.argmax(1)\n",
    "            correct += (pred == label).sum().item()\n",
    "            total += label.size(0)\n",
    "    val_acc = correct / total\n",
    "    val_accs.append(val_acc)\n",
    "    print(f\"Epoch {epoch}: Val Acc = {val_acc*100:.2f}%\")"
   ]
  },
  {
   "cell_type": "code",
   "execution_count": 52,
   "id": "25f0d3c6",
   "metadata": {},
   "outputs": [
    {
     "data": {
      "image/png": "[encoded data removed]",
      "text/plain": [
       "<Figure size 640x480 with 1 Axes>"
      ]
     },
     "metadata": {},
     "output_type": "display_data"
    },
    {
     "name": "stdout",
     "output_type": "stream",
     "text": [
      "Final Validation Accuracy: 0.962\n"
     ]
    }
   ],
   "source": [
    "plt.plot(train_losses)\n",
    "plt.title(\"Training Loss\")\n",
    "plt.xlabel(\"Batch\")\n",
    "plt.ylabel(\"Loss\")\n",
    "plt.show()\n",
    "\n",
    "print(\"Final Validation Accuracy:\", val_accs[-1])"
   ]
  },
  {
   "cell_type": "markdown",
   "id": "04603fdc",
   "metadata": {},
   "source": [
    "## Summary\n",
    "\n",
    "- We implemented a Swin Transformer from scratch and adapted it for MNIST digit classification.\n",
    "- Swin Transformer uses shifted window attention and hierarchical feature extraction for efficient vision tasks.\n",
    "- The model trains efficiently on Mac (MPS), CUDA, or CPU."
   ]
  }
 ],
 "metadata": {
  "kernelspec": {
   "display_name": "base",
   "language": "python",
   "name": "python3"
  },
  "language_info": {
   "codemirror_mode": {
    "name": "ipython",
    "version": 3
   },
   "file_extension": ".py",
   "mimetype": "text/x-python",
   "name": "python",
   "nbconvert_exporter": "python",
   "pygments_lexer": "ipython3",
   "version": "3.12.2"
  }
 },
 "nbformat": 4,
 "nbformat_minor": 5
}
